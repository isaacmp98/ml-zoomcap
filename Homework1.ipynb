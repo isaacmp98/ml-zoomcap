{
 "cells": [
  {
   "cell_type": "code",
   "execution_count": 1,
   "id": "2c7dda9b-2bfe-40c5-aa71-eca3e49ec128",
   "metadata": {},
   "outputs": [],
   "source": [
    "import pandas as pd\n",
    "import numpy as np"
   ]
  },
  {
   "cell_type": "markdown",
   "id": "e24c8a87-71db-41e4-97ee-d76565323cba",
   "metadata": {},
   "source": [
    "Q1. Pandas version"
   ]
  },
  {
   "cell_type": "code",
   "execution_count": 2,
   "id": "6a25872e-ea52-4cad-945c-894179059c31",
   "metadata": {},
   "outputs": [
    {
     "data": {
      "text/plain": [
       "'2.2.3'"
      ]
     },
     "execution_count": 2,
     "metadata": {},
     "output_type": "execute_result"
    }
   ],
   "source": [
    "pd.__version__"
   ]
  },
  {
   "cell_type": "markdown",
   "id": "c255ff1e-7adb-4215-9720-218aa0160776",
   "metadata": {},
   "source": [
    "Getting the data"
   ]
  },
  {
   "cell_type": "code",
   "execution_count": 3,
   "id": "b6147965-d4b8-4ac5-8d2e-9ccfc8d5c8a7",
   "metadata": {},
   "outputs": [],
   "source": [
    "data_csv = pd.read_csv('https://raw.githubusercontent.com/alexeygrigorev/datasets/master/car_fuel_efficiency.csv')"
   ]
  },
  {
   "cell_type": "markdown",
   "id": "d0f0459f-d7d4-40ec-a1ad-da50000747f0",
   "metadata": {},
   "source": [
    "Q2. Records counts"
   ]
  },
  {
   "cell_type": "code",
   "execution_count": 4,
   "id": "8a3afffe-e331-475e-b6d8-798f98e33e45",
   "metadata": {},
   "outputs": [
    {
     "data": {
      "text/plain": [
       "9704"
      ]
     },
     "execution_count": 4,
     "metadata": {},
     "output_type": "execute_result"
    }
   ],
   "source": [
    "data_csv.shape[0]"
   ]
  },
  {
   "cell_type": "markdown",
   "id": "1bbdef47-ed93-4861-b3bb-43203a066df9",
   "metadata": {},
   "source": [
    "Q3. Fuel types in the data set"
   ]
  },
  {
   "cell_type": "code",
   "execution_count": 5,
   "id": "c7759fcf-5ea4-4c8a-893e-d1231c81d88f",
   "metadata": {},
   "outputs": [
    {
     "data": {
      "text/plain": [
       "fuel_type\n",
       "Gasoline    4898\n",
       "Diesel      4806\n",
       "Name: count, dtype: int64"
      ]
     },
     "execution_count": 5,
     "metadata": {},
     "output_type": "execute_result"
    }
   ],
   "source": [
    "data_csv.nunique()\n",
    "\n",
    "# o tambien\n",
    "\n",
    "data_csv.fuel_type.value_counts()"
   ]
  },
  {
   "cell_type": "markdown",
   "id": "fb604878-f0a9-45da-a8db-9ed57071df92",
   "metadata": {},
   "source": [
    "Q4. How many columns in the dataset has missing values"
   ]
  },
  {
   "cell_type": "code",
   "execution_count": 6,
   "id": "052d5ff4-c129-4925-ae5c-f73c977a1b95",
   "metadata": {},
   "outputs": [
    {
     "data": {
      "text/plain": [
       "engine_displacement      0\n",
       "num_cylinders          482\n",
       "horsepower             708\n",
       "vehicle_weight           0\n",
       "acceleration           930\n",
       "model_year               0\n",
       "origin                   0\n",
       "fuel_type                0\n",
       "drivetrain               0\n",
       "num_doors              502\n",
       "fuel_efficiency_mpg      0\n",
       "dtype: int64"
      ]
     },
     "execution_count": 6,
     "metadata": {},
     "output_type": "execute_result"
    }
   ],
   "source": [
    "data_csv.isnull().sum()"
   ]
  },
  {
   "cell_type": "markdown",
   "id": "3011330a-e7e9-4bb3-8024-baea9f96f400",
   "metadata": {},
   "source": [
    "Q5. What's the maximum fuel efficiency of cars from Asia"
   ]
  },
  {
   "cell_type": "code",
   "execution_count": 7,
   "id": "8837cb7c-10b3-454b-b322-ae9cc7ab79d9",
   "metadata": {},
   "outputs": [
    {
     "data": {
      "text/plain": [
       "23.759122836520497"
      ]
     },
     "execution_count": 7,
     "metadata": {},
     "output_type": "execute_result"
    }
   ],
   "source": [
    "data_csv[data_csv['origin'] == 'Asia'].fuel_efficiency_mpg.max()"
   ]
  },
  {
   "cell_type": "markdown",
   "id": "dc1c06ba-39f6-4a49-95b5-985d9278b178",
   "metadata": {},
   "source": [
    "Q6. Media value of horsepower"
   ]
  },
  {
   "cell_type": "code",
   "execution_count": 8,
   "id": "243eb3d9-e288-42b0-af19-a8aa782b749f",
   "metadata": {},
   "outputs": [
    {
     "data": {
      "text/plain": [
       "149.0"
      ]
     },
     "execution_count": 8,
     "metadata": {},
     "output_type": "execute_result"
    }
   ],
   "source": [
    "# 1. Median value of horsepower column in the dataset\n",
    "data_csv.horsepower.median()"
   ]
  },
  {
   "cell_type": "code",
   "execution_count": 9,
   "id": "1896c63c-7886-4716-8f46-f64f7bafd598",
   "metadata": {},
   "outputs": [
    {
     "data": {
      "text/plain": [
       "horsepower\n",
       "152.0    142\n",
       "145.0    141\n",
       "151.0    134\n",
       "148.0    130\n",
       "141.0    130\n",
       "        ... \n",
       "40.0       1\n",
       "57.0       1\n",
       "245.0      1\n",
       "252.0      1\n",
       "61.0       1\n",
       "Name: count, Length: 192, dtype: int64"
      ]
     },
     "execution_count": 9,
     "metadata": {},
     "output_type": "execute_result"
    }
   ],
   "source": [
    "# 2. Most frequent value of horsepower column\n",
    "data_csv.horsepower.value_counts()"
   ]
  },
  {
   "cell_type": "code",
   "execution_count": 10,
   "id": "476caf6f-5302-4f94-bda2-3fbad92f317e",
   "metadata": {},
   "outputs": [],
   "source": [
    "# 3. Use fillna to fill missing values in horsepower with previous value\n",
    "horsepower_filled = data_csv.horsepower.fillna(152)"
   ]
  },
  {
   "cell_type": "code",
   "execution_count": 14,
   "id": "22071617-09de-4632-b7b0-0bbb22260a66",
   "metadata": {},
   "outputs": [
    {
     "data": {
      "text/plain": [
       "152.0"
      ]
     },
     "execution_count": 14,
     "metadata": {},
     "output_type": "execute_result"
    }
   ],
   "source": [
    "# 4. Calculate median again\n",
    "horsepower_filled.median()"
   ]
  },
  {
   "cell_type": "markdown",
   "id": "5d7c7e62-b624-4353-8394-d2980892ca1c",
   "metadata": {},
   "source": [
    "Q7. Sum of weights"
   ]
  },
  {
   "cell_type": "code",
   "execution_count": 37,
   "id": "26657742-62f7-42b7-9ec6-26ac87a6150d",
   "metadata": {},
   "outputs": [
    {
     "data": {
      "text/plain": [
       "np.float64(135.44096744517628)"
      ]
     },
     "execution_count": 37,
     "metadata": {},
     "output_type": "execute_result"
    }
   ],
   "source": [
    "# 1. Select all the cars from Asia\n",
    "asian_cars = data_csv[data_csv['origin'] == 'Asia']\n",
    "\n",
    "# 2. Select only columns vehicle_weight and model_year\n",
    "data2 = asian_cars[['vehicle_weight', 'model_year']]\n",
    "\n",
    "# 3. Select the first 7 values\n",
    "data3 = data2.head(n=7)\n",
    "\n",
    "# 4. Transform to numpy array\n",
    "x = np.log1p(data3.values)\n",
    "\n",
    "# 5. Compute X'*X\n",
    "XT = x.T\n",
    "XTX = XT @ x\n",
    "\n",
    "# 6. Invert XTX\n",
    "invXTX = np.linalg.inv(XTX)\n",
    "\n",
    "# 7. Create an array y with the values ...\n",
    "y = np.array([1100, 1300, 800, 900, 1000, 1100, 1200])\n",
    "\n",
    "# 8. Multiply the inverse of XTX with the transpose of X and then multiply the result by y. Call the result w\n",
    "w_temp = invXTX @ XT\n",
    "w = w_temp @ y\n",
    "\n",
    "# 9. Sum of all the elements\n",
    "w.sum()"
   ]
  }
 ],
 "metadata": {
  "kernelspec": {
   "display_name": "Python [conda env:base] *",
   "language": "python",
   "name": "conda-base-py"
  },
  "language_info": {
   "codemirror_mode": {
    "name": "ipython",
    "version": 3
   },
   "file_extension": ".py",
   "mimetype": "text/x-python",
   "name": "python",
   "nbconvert_exporter": "python",
   "pygments_lexer": "ipython3",
   "version": "3.13.5"
  }
 },
 "nbformat": 4,
 "nbformat_minor": 5
}
